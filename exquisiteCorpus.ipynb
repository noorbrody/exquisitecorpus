{
 "cells": [
  {
   "cell_type": "markdown",
   "metadata": {},
   "source": [
    "1. represent sentence structure as a pattern\n",
    "2. search for all lines that have the structure \n",
    "3. arrange with rhyming"
   ]
  },
  {
   "cell_type": "code",
   "execution_count": 203,
   "metadata": {},
   "outputs": [],
   "source": [
    "import gzip, json\n",
    "import pronouncing\n",
    "import random\n",
    "import re\n",
    "import string\n",
    "from collections import defaultdict\n",
    "import tweepy\n",
    "import spacy\n",
    "from spacy.util import filter_spans\n",
    "from spacy.matcher import Matcher"
   ]
  },
  {
   "cell_type": "code",
   "execution_count": 4,
   "metadata": {},
   "outputs": [],
   "source": [
    "nlp = spacy.load('en_core_web_lg')"
   ]
  },
  {
   "cell_type": "code",
   "execution_count": 5,
   "metadata": {},
   "outputs": [],
   "source": [
    "all_lines = []\n",
    "for line in gzip.open(\"gutenberg-poetry-v001.ndjson.gz\"):\n",
    "    all_lines.append(json.loads(line.strip())['s'])"
   ]
  },
  {
   "cell_type": "code",
   "execution_count": 79,
   "metadata": {},
   "outputs": [
    {
     "data": {
      "text/plain": [
       "3085117"
      ]
     },
     "execution_count": 79,
     "metadata": {},
     "output_type": "execute_result"
    }
   ],
   "source": [
    "len(all_lines)    # check size"
   ]
  },
  {
   "cell_type": "code",
   "execution_count": 84,
   "metadata": {},
   "outputs": [
    {
     "data": {
      "text/plain": [
       "'The Song of Hiawatha is based on the legends and stories of'"
      ]
     },
     "execution_count": 84,
     "metadata": {},
     "output_type": "execute_result"
    }
   ],
   "source": [
    "all_lines[0]"
   ]
  },
  {
   "cell_type": "code",
   "execution_count": null,
   "metadata": {},
   "outputs": [],
   "source": [
    "# this cell not used\n",
    "\n",
    "doc1 = nlp('Slung trousers melt in a roseate box.')\n",
    "doc2 = nlp('A broken calendar oscillates like sunny tin.')\n",
    "doc1.similarity(doc2)\n",
    "\n",
    "\n",
    "all_lines_random_sample2 = random.sample(all_lines, k=1000)\n",
    "all_lines_docs = []\n",
    "for line in all_lines_random_sample2:\n",
    "    all_lines_docs.append(nlp(line))\n",
    "\n",
    "for token in all_lines_docs[9]:\n",
    "    print(token.text, token.pos_)\n",
    "    \n",
    "list(all_lines_docs[9].noun_chunks)"
   ]
  },
  {
   "cell_type": "code",
   "execution_count": 149,
   "metadata": {},
   "outputs": [
    {
     "name": "stdout",
     "output_type": "stream",
     "text": [
      "CPU times: user 27.3 s, sys: 2.66 s, total: 30 s\n",
      "Wall time: 31.5 s\n"
     ]
    },
    {
     "data": {
      "text/plain": [
       "97502"
      ]
     },
     "execution_count": 149,
     "metadata": {},
     "output_type": "execute_result"
    }
   ],
   "source": [
    "%%time\n",
    "# initial error: Text of length 121,559,782 exceeds maximum of 1,000,000.\n",
    "# nlp.max_length = 2000000\n",
    "\n",
    "all_lines_random_sample = random.sample(all_lines, k=10000)\n",
    "all_lines_onestring = \"\\n\".join(all_lines_random_sample)\n",
    "all_lines_doc = nlp(all_lines_onestring)\n",
    "len(all_lines_doc)"
   ]
  },
  {
   "cell_type": "markdown",
   "metadata": {},
   "source": [
    "https://dsackerman.com/three-things-you-can-do-with-spacy/\n",
    "\n",
    "spaCy tag list: https://github.com/explosion/spaCy/blob/master/spacy/glossary.py\n",
    "\n",
    "spaCy matcher: https://spacy.io/api/matcher"
   ]
  },
  {
   "cell_type": "code",
   "execution_count": 16,
   "metadata": {},
   "outputs": [],
   "source": [
    "test = nlp('Slung trousers melt in a roseate box.\\nA broken calendar oscillates like sunny tin.\\nThe craven linden growls swimmingly. Blowfish.\\nThe man walks away.\\nThe woman drives.')\n",
    "#for token in test:\n",
    "#    print(token.text, token.pos_)"
   ]
  },
  {
   "cell_type": "markdown",
   "metadata": {},
   "source": [
    "Note: {'OP': '?'} wildcards may include newlines, so each found line may include two lines. Keeping this bug for now to add some variety in line structure type"
   ]
  },
  {
   "cell_type": "code",
   "execution_count": 150,
   "metadata": {},
   "outputs": [],
   "source": [
    "def matchStructure(doc2match):    \n",
    "    pattern = [\n",
    "        {'POS': 'SPACE'},\n",
    "        {'OP': '?'},{'OP': '?'},{'OP': '?'},{'OP': '?'},{'OP': '?'},{'OP': '?'},{'OP': '?'},\n",
    "        {'POS': 'ADJ', 'OP': '+'},\n",
    "        {'POS': 'NOUN'},\n",
    "        {'POS': 'PRON', 'OP': '?'},\n",
    "        {'POS': 'VERB'},\n",
    "        {'OP': '?'},{'OP': '?'},{'OP': '?'},{'OP': '?'},{'OP': '?'},{'OP': '?'},{'OP': '?'},\n",
    "        {'POS': 'SPACE'}\n",
    "        ]    \n",
    "    matcher = Matcher(nlp.vocab)\n",
    "    matcher.add('corpse', [pattern])\n",
    "    matches = matcher(doc2match)\n",
    "    spans = [doc2match[start:end] for match_id, start, end in matches]\n",
    "    return filter_spans(spans)"
   ]
  },
  {
   "cell_type": "code",
   "execution_count": 155,
   "metadata": {},
   "outputs": [
    {
     "data": {
      "text/plain": [
       "318"
      ]
     },
     "execution_count": 155,
     "metadata": {},
     "output_type": "execute_result"
    }
   ],
   "source": [
    "matched_lines = matchStructure(all_lines_doc)\n",
    "len(matched_lines)"
   ]
  },
  {
   "cell_type": "code",
   "execution_count": 176,
   "metadata": {},
   "outputs": [],
   "source": [
    "matched_lines_list = [l.text.strip() for l in matched_lines]"
   ]
  },
  {
   "cell_type": "markdown",
   "metadata": {},
   "source": [
    "Cells below from this notebook: https://github.com/aparrish/gutenberg-poetry-corpus/blob/master/quick-experiments.ipynb\n",
    "\n",
    "Build a dictionary that maps rhyming parts to a dictionary that maps words with that rhyming part to the lines of poetry that they're found at the end of:"
   ]
  },
  {
   "cell_type": "code",
   "execution_count": 200,
   "metadata": {},
   "outputs": [],
   "source": [
    "all_lines_random_sample3 = random.sample(all_lines, k=100)\n",
    "\n",
    "by_rhyming_part = defaultdict(lambda: defaultdict(list))\n",
    "\n",
    "for line in matched_lines_list:\n",
    "    match = re.search(r'(\\b\\w+\\b)\\W*$', line)\n",
    "    if match:\n",
    "        last_word = match.group()\n",
    "        # strip punctuation\n",
    "        last_word = last_word.translate(str.maketrans('', '', string.punctuation)) \n",
    "        pronunciations = pronouncing.phones_for_word(last_word)\n",
    "        if len(pronunciations) > 0:\n",
    "            rhyming_part = pronouncing.rhyming_part(pronunciations[0])\n",
    "            # group by rhyming phones (for rhymes) and words (to avoid duplicate words)\n",
    "            by_rhyming_part[rhyming_part][last_word.lower()].append(line)\n",
    "\n",
    "# random_rhyming_part = random.choice(list(by_rhyming_part.keys()))\n",
    "# random_rhyming_part, by_rhyming_part[random_rhyming_part]"
   ]
  },
  {
   "cell_type": "markdown",
   "metadata": {},
   "source": [
    "Find the groups from the by_rhyming_part dictionary that have at least two different line-ending words:"
   ]
  },
  {
   "cell_type": "code",
   "execution_count": 201,
   "metadata": {},
   "outputs": [],
   "source": [
    "rhyme_groups = [group for group in by_rhyming_part.values() if len(group) >= 2]"
   ]
  },
  {
   "cell_type": "markdown",
   "metadata": {},
   "source": [
    "Find rhyming couplets loop:\n",
    "1. Select a random rhyming group\n",
    "2. Sample two keys (words) from that group\n",
    "3. Print a random line from both groups"
   ]
  },
  {
   "cell_type": "code",
   "execution_count": 204,
   "metadata": {},
   "outputs": [
    {
     "name": "stdout",
     "output_type": "stream",
     "text": [
      "Dear is the helpless creature we defend\n",
      "The fairest things have fleetest end:\n",
      "\n",
      "His honoured guest he greeted well,\n",
      "Pass'd into the silent church;\n",
      "Dear voices call me from hell--\n",
      "\n",
      "But that with Christian faith he sought\n",
      "They (who upon the recent wonder thought)\n",
      "\n",
      "In peace, than warlike princes win in fight.\n",
      "Deep shadows hide you wholly from our sight;\n",
      "\n",
      "Whence with spacious vision you mark and mete\n",
      "Her elegant apparel folded neat)\n",
      "\n",
      "Thence to my liege's eyes mine eyes I bent,\n",
      "The breezes their own languor lent;\n",
      "\n",
      "You'll feel my heavy spirit chill your chest,\n",
      "Her tired hands crossed on her shrunken breast.\n",
      "\n",
      "Its fresh leaves whisper in a song\n",
      "Where the blue river winds along,\n",
      "\n",
      "A golden goblet gave.\n",
      "I see them swing,\n",
      "And volleys of small plaudits bring\n",
      "\n",
      "All other blessings I resign,\n",
      "To thy good faith commend I this dearest lord of mine.\n",
      "\n",
      "See! where our white sails bend and dip\n",
      "Those fresh cool waters wet the sick man's lip;\n",
      "\n",
      "The fairest things have fleetest end:\n",
      "Dear is the helpless creature we defend\n",
      "\n",
      "Thence to my liege's eyes mine eyes I bent,\n",
      "The breezes their own languor lent;\n",
      "\n",
      "And every flower that sad embroidery wears:\n",
      "Or sad-eyed Sorrow fills it full of tears,\n",
      "\n",
      "Those fresh cool waters wet the sick man's lip;\n",
      "See! where our white sails bend and dip\n",
      "\n",
      "And far beneath the brazen floor they see\n",
      "How fair outside looked to me!\n",
      "\n",
      "Closing his benediction,\n",
      "Good sailor come and tell me now\n",
      "The ox and ass their patient foreheads bow\n",
      "\n",
      "As now its strange swift shine\n",
      "All other blessings I resign,\n",
      "\n",
      "As now its strange swift shine\n",
      "All other blessings I resign,\n",
      "\n",
      "Down right into the World's first region throws\n",
      "A lost and mired campestral rose.\n",
      "\n",
      "Dear is the helpless creature we defend\n",
      "The fairest things have fleetest end:\n",
      "\n",
      "One of the solid margins bears us now\n",
      "The ox and ass their patient foreheads bow\n",
      "\n",
      "Did o'er its shallow waters wade.\n",
      "And on his comrades' quivering mouths he laid\n",
      "\n",
      "And ere the wounded giant died\n",
      "His horrid mouth he opened wide\n",
      "\n",
      "And true as English natures be,\n",
      "From those sweet friends I rode, to see\n",
      "\n",
      "These veteran troops, their final duty done,\n",
      "Or that ethereal zone\n",
      "Far off and harmless the shy stars shone;\n",
      "\n",
      "Thy hapless fate he mourns,\n",
      "More stately! most the simple crown adorns\n",
      "\n",
      "Sometimes there was a waggon\n",
      "The little brook babbles--its secret is sweet.\n",
      "Her elegant apparel folded neat)\n",
      "\n",
      "And volleys of small plaudits bring\n",
      "A golden goblet gave.\n",
      "I see them swing,\n",
      "\n",
      "Dear is the helpless creature we defend\n",
      "The fairest things have fleetest end:\n",
      "\n",
      "Far off and harmless the shy stars shone;\n",
      "These veteran troops, their final duty done,\n",
      "Or that ethereal zone\n",
      "\n",
      "Where the blue river winds along,\n",
      "And choral Virgins listen to the song;\n",
      "\n",
      "And by such thinking banishes the past\n",
      "And in the shadow, on the broad tank cast\n",
      "\n",
      "The ox and ass their patient foreheads bow\n",
      "One of the solid margins bears us now\n",
      "\n",
      "Far off and harmless the shy stars shone;\n",
      "These veteran troops, their final duty done,\n",
      "Or that ethereal zone\n",
      "\n",
      "And every flower that sad embroidery wears:\n",
      "Or sad-eyed Sorrow fills it full of tears,\n",
      "\n",
      "And the green things push and grow,\n",
      "Xanthus, whose streams in golden currents flow,\n",
      "\n",
      "These veteran troops, their final duty done,\n",
      "Or that ethereal zone\n",
      "Far off and harmless the shy stars shone;\n",
      "\n",
      "Upon a shaggy-bearded goat he rode,\n",
      "Or in such numbers swarming ne'er she showed.\"\n",
      "\n",
      "Deep shadows hide you wholly from our sight;\n",
      "In peace, than warlike princes win in fight.\n",
      "\n",
      "And volleys of small plaudits bring\n",
      "A golden goblet gave.\n",
      "I see them swing,\n",
      "\n",
      "And the green scene goes on the instant blind--\n",
      "Nor, Monarch, be thine ear inclined\n",
      "\n",
      "When spiritual lightnings struck men down\n",
      "And a net of intense white flame roars over the town,\n",
      "\n",
      "Ere I become (from thy dear friendship torn)\n",
      "By pining care and wakeful sorrow worn,\n",
      "\n",
      "Those fresh cool waters wet the sick man's lip;\n",
      "See! where our white sails bend and dip\n",
      "\n",
      "His sluggish courser stung with many a goad;\n",
      "Or in such numbers swarming ne'er she showed.\"\n",
      "\n",
      "But that with Christian faith he sought\n",
      "They (who upon the recent wonder thought)\n",
      "\n",
      "Śatrughna, for wise plans renowned,\n",
      "Your faithful echoes caught the parting sound,\n",
      "\n",
      "There, where the broken mountain drops sheer into the glen,\n",
      "Our own right lost.  Him to unthrone we then\n",
      "\n",
      "But that with Christian faith he sought\n",
      "They (who upon the recent wonder thought)\n",
      "\n",
      "Where the blue river winds along,\n",
      "And choral Virgins listen to the song;\n",
      "\n",
      "More stately! most the simple crown adorns\n",
      "Thy hapless fate he mourns,\n",
      "\n",
      "That in the green wood met my ear.\n",
      "And greater secrets hopes to learn, and hear,\n",
      "\n",
      "A solemn thing it was, I said,\n",
      "The sons to toils of glorious battle bred;\n",
      "\n",
      "And every flower that sad embroidery wears:\n",
      "Or sad-eyed Sorrow fills it full of tears,\n",
      "\n",
      "Where the blue river winds along,\n",
      "And choral Virgins listen to the song;\n",
      "\n",
      "As if in pure water you dropped and let die\n",
      "me know if thy inward persuasion is conformable to thy\n",
      "\n",
      "Thence to my liege's eyes mine eyes I bent,\n",
      "The breezes their own languor lent;\n",
      "\n",
      "Through the wide forest pricked the weary groom.\n",
      "Whence no public virtues bloom?\n",
      "\n",
      "All the exquisite places we're at, day and night;\n",
      "Deep shadows hide you wholly from our sight;\n",
      "\n",
      "Bidding his tinted leaves glide, bidding clear\n",
      "A few fond cockroaches lingered near,\n",
      "\n",
      "Whose right hand blesses with increase and life,\n",
      "She needs great skill who takes the role of wife\n",
      "\n",
      "Thy hapless fate he mourns,\n",
      "More stately! most the simple crown adorns\n",
      "\n",
      "In ragged time they jump, they shake\n",
      "Whose outspread wings eclipse the sun, and make\n",
      "\n",
      "Mark what unvaried laws preserve each state,\n",
      "Or with their own hands wounded, or by fate\n",
      "\n",
      "Those fresh cool waters wet the sick man's lip;\n",
      "See! where our white sails bend and dip\n",
      "\n",
      "In this dark cell confined?\n",
      "The bobolinks are singing!\n",
      "His hapless guests at silent midnight bled,\n",
      "And gliding and springing,\n",
      "\n",
      "\"The fiction pleased, our generous train complies,\n",
      "Makes them such raptures know\n",
      "That poorly satisfy our eyes\n",
      "\n",
      "The lone unbroken view spreads bright and clear\n",
      "In the fresh shade, his white flocks feeding near,\n",
      "\n",
      "Ere I become (from thy dear friendship torn)\n",
      "By pining care and wakeful sorrow worn,\n",
      "\n",
      "When spiritual lightnings struck men down\n",
      "And a net of intense white flame roars over the town,\n",
      "\n",
      "Absolves the innocent man who bears his crime;\n",
      "When the light love beheld no foe but Time,\n",
      "\n",
      "In sportive dimples traced,\n",
      "With seasoned wit and goodly pleasance graced,\n",
      "\n",
      "All other blessings I resign,\n",
      "To thy good faith commend I this dearest lord of mine.\n",
      "\n",
      "With seasoned wit and goodly pleasance graced,\n",
      "In sportive dimples traced,\n",
      "\n",
      "Whose right hand blesses with increase and life,\n",
      "She needs great skill who takes the role of wife\n",
      "\n",
      "Where round some mould'ring tow'r pale ivy creeps,\n",
      "Who through the night his tireless vigil keeps,\n",
      "\n",
      "As the spirits of strong men are,\n",
      "So I paid a good dollar fer an ole black mar'.\n",
      "\n",
      "His honoured guest he greeted well,\n",
      "Pass'd into the silent church;\n",
      "Dear voices call me from hell--\n",
      "\n",
      "Those fresh cool waters wet the sick man's lip;\n",
      "See! where our white sails bend and dip\n",
      "\n",
      "These veteran troops, their final duty done,\n",
      "Or that ethereal zone\n",
      "Far off and harmless the shy stars shone;\n",
      "\n",
      "Her sinking steed faltered, his eager ears fell\n",
      "Pass'd into the silent church;\n",
      "Dear voices call me from hell--\n",
      "\n",
      "Where round some mould'ring tow'r pale ivy creeps,\n",
      "Who through the night his tireless vigil keeps,\n",
      "\n",
      "Go where glory waits thee,\n",
      "Far other life you live, far other tongue\n",
      "His ark--on the wide ether flung,\n",
      "\n",
      "By pining care and wakeful sorrow worn,\n",
      "Ere I become (from thy dear friendship torn)\n",
      "\n",
      "A plant that with most cutting grows,\n",
      "Down right into the World's first region throws\n",
      "\n",
      "The land's sharp features seemed to be\n",
      "And far beneath the brazen floor they see\n",
      "\n",
      "Upon a shaggy-bearded goat he rode,\n",
      "Or in such numbers swarming ne'er she showed.\"\n",
      "\n",
      "Where the loon's loud laugh rings wild and clear,\n",
      "In the fresh shade, his white flocks feeding near,\n",
      "\n",
      "Whose outspread wings eclipse the sun, and make\n",
      "And to his battle-eager grandson spake:\n",
      "\n",
      "Who through the night his tireless vigil keeps,\n",
      "Where round some mould'ring tow'r pale ivy creeps,\n",
      "\n",
      "Or sad-eyed Sorrow fills it full of tears,\n",
      "And every flower that sad embroidery wears:\n",
      "\n",
      "And every flower that sad embroidery wears:\n",
      "Or sad-eyed Sorrow fills it full of tears,\n",
      "\n",
      "Those fresh cool waters wet the sick man's lip;\n",
      "See! where our white sails bend and dip\n",
      "\n",
      "When spiritual lightnings struck men down\n",
      "And a net of intense white flame roars over the town,\n",
      "\n",
      "The ox and ass their patient foreheads bow\n",
      "Closing his benediction,\n",
      "Good sailor come and tell me now\n",
      "\n",
      "And the green scene goes on the instant blind--\n",
      "Nor, Monarch, be thine ear inclined\n",
      "\n",
      "A plant that with most cutting grows,\n",
      "From peaceful slumber she arose,\n",
      "\n",
      "For the heart's right hand we give you.\n",
      "The hero, when to manly years he grew,\n",
      "\n",
      "In terror form the royal dome they speed,\n",
      "Let snowy Algidum's wide vallies feed,\n",
      "\n"
     ]
    }
   ],
   "source": [
    "amt_couplets = 100\n",
    "\n",
    "for i in range(amt_couplets):\n",
    "    group = random.choice(rhyme_groups)\n",
    "    words = random.sample(list(group.keys()), 2)\n",
    "    print(random.choice(group[words[0]]))\n",
    "    print(random.choice(group[words[1]]))\n",
    "    print()"
   ]
  },
  {
   "cell_type": "code",
   "execution_count": null,
   "metadata": {},
   "outputs": [],
   "source": [
    "# Authenticate to Twitter\n",
    "auth = tweepy.OAuthHandler(\"CONSUMER_KEY\", \"CONSUMER_SECRET\")\n",
    "auth.set_access_token(\"ACCESS_TOKEN\", \"ACCESS_TOKEN_SECRET\")\n",
    "\n",
    "# Create API object\n",
    "api = tweepy.API(auth)\n",
    "\n",
    "# Create a tweet\n",
    "api.update_status(\"Hello Tweepy\")"
   ]
  }
 ],
 "metadata": {
  "kernelspec": {
   "display_name": "Python 3",
   "language": "python",
   "name": "python3"
  },
  "language_info": {
   "codemirror_mode": {
    "name": "ipython",
    "version": 3
   },
   "file_extension": ".py",
   "mimetype": "text/x-python",
   "name": "python",
   "nbconvert_exporter": "python",
   "pygments_lexer": "ipython3",
   "version": "3.7.6"
  }
 },
 "nbformat": 4,
 "nbformat_minor": 4
}
