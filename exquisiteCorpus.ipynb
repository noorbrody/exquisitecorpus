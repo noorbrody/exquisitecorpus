{
 "cells": [
  {
   "cell_type": "markdown",
   "metadata": {},
   "source": [
    "1. represent sentence structure as a pattern\n",
    "2. search for all lines that have the structure \n",
    "3. arrange with rhyming"
   ]
  },
  {
   "cell_type": "code",
   "execution_count": 203,
   "metadata": {},
   "outputs": [],
   "source": [
    "import gzip, json\n",
    "import pronouncing\n",
    "import random\n",
    "import re\n",
    "import string\n",
    "from collections import defaultdict\n",
    "import tweepy\n",
    "import spacy\n",
    "from spacy.util import filter_spans\n",
    "from spacy.matcher import Matcher"
   ]
  },
  {
   "cell_type": "code",
   "execution_count": 4,
   "metadata": {},
   "outputs": [],
   "source": [
    "nlp = spacy.load('en_core_web_lg')"
   ]
  },
  {
   "cell_type": "code",
   "execution_count": 5,
   "metadata": {},
   "outputs": [],
   "source": [
    "all_lines = []\n",
    "for line in gzip.open(\"gutenberg-poetry-v001.ndjson.gz\"):\n",
    "    all_lines.append(json.loads(line.strip())['s'])"
   ]
  },
  {
   "cell_type": "code",
   "execution_count": 79,
   "metadata": {},
   "outputs": [
    {
     "data": {
      "text/plain": [
       "3085117"
      ]
     },
     "execution_count": 79,
     "metadata": {},
     "output_type": "execute_result"
    }
   ],
   "source": [
    "len(all_lines)    # check size"
   ]
  },
  {
   "cell_type": "code",
   "execution_count": 84,
   "metadata": {},
   "outputs": [
    {
     "data": {
      "text/plain": [
       "'The Song of Hiawatha is based on the legends and stories of'"
      ]
     },
     "execution_count": 84,
     "metadata": {},
     "output_type": "execute_result"
    }
   ],
   "source": [
    "all_lines[0]"
   ]
  },
  {
   "cell_type": "code",
   "execution_count": null,
   "metadata": {},
   "outputs": [],
   "source": [
    "# this cell not used\n",
    "\n",
    "doc1 = nlp('Slung trousers melt in a roseate box.')\n",
    "doc2 = nlp('A broken calendar oscillates like sunny tin.')\n",
    "doc1.similarity(doc2)\n",
    "\n",
    "\n",
    "all_lines_random_sample2 = random.sample(all_lines, k=1000)\n",
    "all_lines_docs = []\n",
    "for line in all_lines_random_sample2:\n",
    "    all_lines_docs.append(nlp(line))\n",
    "\n",
    "for token in all_lines_docs[9]:\n",
    "    print(token.text, token.pos_)\n",
    "    \n",
    "list(all_lines_docs[9].noun_chunks)"
   ]
  },
  {
   "cell_type": "code",
   "execution_count": 149,
   "metadata": {},
   "outputs": [
    {
     "name": "stdout",
     "output_type": "stream",
     "text": [
      "CPU times: user 27.3 s, sys: 2.66 s, total: 30 s\n",
      "Wall time: 31.5 s\n"
     ]
    },
    {
     "data": {
      "text/plain": [
       "97502"
      ]
     },
     "execution_count": 149,
     "metadata": {},
     "output_type": "execute_result"
    }
   ],
   "source": [
    "%%time\n",
    "# initial error: Text of length 121,559,782 exceeds maximum of 1,000,000.\n",
    "# nlp.max_length = 2000000\n",
    "\n",
    "all_lines_random_sample = random.sample(all_lines, k=10000)\n",
    "all_lines_onestring = \"\\n\".join(all_lines_random_sample)\n",
    "all_lines_doc = nlp(all_lines_onestring)\n",
    "len(all_lines_doc)"
   ]
  },
  {
   "cell_type": "markdown",
   "metadata": {},
   "source": [
    "https://dsackerman.com/three-things-you-can-do-with-spacy/\n",
    "\n",
    "spaCy tag list: https://github.com/explosion/spaCy/blob/master/spacy/glossary.py\n",
    "\n",
    "spaCy matcher: https://spacy.io/api/matcher"
   ]
  },
  {
   "cell_type": "code",
   "execution_count": 16,
   "metadata": {},
   "outputs": [],
   "source": [
    "test = nlp('Slung trousers melt in a roseate box.\\nA broken calendar oscillates like sunny tin.\\nThe craven linden growls swimmingly. Blowfish.\\nThe man walks away.\\nThe woman drives.')\n",
    "#for token in test:\n",
    "#    print(token.text, token.pos_)"
   ]
  },
  {
   "cell_type": "markdown",
   "metadata": {},
   "source": [
    "Note: {'OP': '?'} wildcards may include newlines, so each found line may include two lines. Keeping this bug for now to add some variety in line structure type"
   ]
  },
  {
   "cell_type": "code",
   "execution_count": 150,
   "metadata": {},
   "outputs": [],
   "source": [
    "def matchStructure(doc2match):    \n",
    "    pattern = [\n",
    "        {'POS': 'SPACE'},\n",
    "        {'OP': '?'},{'OP': '?'},{'OP': '?'},{'OP': '?'},{'OP': '?'},{'OP': '?'},{'OP': '?'},\n",
    "        {'POS': 'ADJ', 'OP': '+'},\n",
    "        {'POS': 'NOUN'},\n",
    "        {'POS': 'PRON', 'OP': '?'},\n",
    "        {'POS': 'VERB'},\n",
    "        {'OP': '?'},{'OP': '?'},{'OP': '?'},{'OP': '?'},{'OP': '?'},{'OP': '?'},{'OP': '?'},\n",
    "        {'POS': 'SPACE'}\n",
    "        ]    \n",
    "    matcher = Matcher(nlp.vocab)\n",
    "    matcher.add('corpse', [pattern])\n",
    "    matches = matcher(doc2match)\n",
    "    spans = [doc2match[start:end] for match_id, start, end in matches]\n",
    "    return filter_spans(spans)"
   ]
  },
  {
   "cell_type": "code",
   "execution_count": 155,
   "metadata": {},
   "outputs": [
    {
     "data": {
      "text/plain": [
       "318"
      ]
     },
     "execution_count": 155,
     "metadata": {},
     "output_type": "execute_result"
    }
   ],
   "source": [
    "matched_lines = matchStructure(all_lines_doc)\n",
    "len(matched_lines)"
   ]
  },
  {
   "cell_type": "code",
   "execution_count": 176,
   "metadata": {},
   "outputs": [],
   "source": [
    "matched_lines_list = [l.text.strip() for l in matched_lines]"
   ]
  },
  {
   "cell_type": "markdown",
   "metadata": {},
   "source": [
    "Cells below from this notebook: https://github.com/aparrish/gutenberg-poetry-corpus/blob/master/quick-experiments.ipynb\n",
    "\n",
    "Build a dictionary that maps rhyming parts to a dictionary that maps words with that rhyming part to the lines of poetry that they're found at the end of:"
   ]
  },
  {
   "cell_type": "code",
   "execution_count": 200,
   "metadata": {},
   "outputs": [],
   "source": [
    "all_lines_random_sample3 = random.sample(all_lines, k=100)\n",
    "\n",
    "by_rhyming_part = defaultdict(lambda: defaultdict(list))\n",
    "\n",
    "for line in matched_lines_list:\n",
    "    match = re.search(r'(\\b\\w+\\b)\\W*$', line)\n",
    "    if match:\n",
    "        last_word = match.group()\n",
    "        # strip punctuation\n",
    "        last_word = last_word.translate(str.maketrans('', '', string.punctuation)) \n",
    "        pronunciations = pronouncing.phones_for_word(last_word)\n",
    "        if len(pronunciations) > 0:\n",
    "            rhyming_part = pronouncing.rhyming_part(pronunciations[0])\n",
    "            # group by rhyming phones (for rhymes) and words (to avoid duplicate words)\n",
    "            by_rhyming_part[rhyming_part][last_word.lower()].append(line)\n",
    "\n",
    "# random_rhyming_part = random.choice(list(by_rhyming_part.keys()))\n",
    "# random_rhyming_part, by_rhyming_part[random_rhyming_part]"
   ]
  },
  {
   "cell_type": "markdown",
   "metadata": {},
   "source": [
    "Find the groups from the by_rhyming_part dictionary that have at least two different line-ending words:"
   ]
  },
  {
   "cell_type": "code",
   "execution_count": 201,
   "metadata": {},
   "outputs": [],
   "source": [
    "rhyme_groups = [group for group in by_rhyming_part.values() if len(group) >= 2]"
   ]
  },
  {
   "cell_type": "markdown",
   "metadata": {},
   "source": [
    "Find rhyming couplets loop:\n",
    "1. Select a random rhyming group\n",
    "2. Sample two keys (words) from that group\n",
    "3. Print a random line from both groups"
   ]
  },
  {
   "cell_type": "code",
   "execution_count": 206,
   "metadata": {},
   "outputs": [
    {
     "name": "stdout",
     "output_type": "stream",
     "text": [
      "In the fresh shade, his white flocks feeding near,\n",
      "\n",
      "Bidding his tinted leaves glide, bidding clear\n",
      "Whence no public virtues bloom?\n",
      "\n",
      "Through the wide forest pricked the weary groom.\n",
      "With equal hurry quit th' invaded shore,\n",
      "\n",
      "But, ere the steely clouds began their war,\n",
      "\"The fiction pleased, our generous train complies,\n",
      "\n",
      "Makes them such raptures know\n",
      "That poorly satisfy our eyes\n",
      "As now its strange swift shine\n",
      "\n",
      "Lest my wee thing be na mine.\n",
      "And volleys of small plaudits bring\n",
      "\n",
      "A golden goblet gave.\n",
      "I see them swing,\n",
      "Or with their own hands wounded, or by fate\n",
      "\n",
      "With these foreboding words restrains their hate:\n",
      "Her tired hands crossed on her shrunken breast.\n",
      "\n",
      "And then, with bitter grief oppressed,\n",
      "So I paid a good dollar fer an ole black mar'.\n",
      "\n",
      "As the spirits of strong men are,\n",
      "The ox and ass their patient foreheads bow\n",
      "\n",
      "Closing his benediction,\n",
      "Good sailor come and tell me now\n",
      "And choral Virgins listen to the song;\n",
      "\n",
      "Where the blue river winds along,\n",
      "Whose right hand blesses with increase and life,\n",
      "\n",
      "She needs great skill who takes the role of wife\n",
      "His hapless guests at silent midnight bled,\n",
      "And gliding and springing,\n",
      "\n",
      "In this dark cell confined?\n",
      "The bobolinks are singing!\n",
      "Whose right hand blesses with increase and life,\n",
      "\n",
      "She needs great skill who takes the role of wife\n",
      "And then, with bitter grief oppressed,\n",
      "\n",
      "Her tired hands crossed on her shrunken breast.\n",
      "I heard a roar,\n",
      "Her pretty maid he woo'd, and won;--\n",
      "\n",
      "A voice, that other purpose left me none,\n",
      "The fairest things have fleetest end:\n",
      "\n",
      "Dear is the helpless creature we defend\n",
      "And to his battle-eager grandson spake:\n",
      "\n",
      "Whose outspread wings eclipse the sun, and make\n",
      "Go where glory waits thee,\n",
      "Far other life you live, far other tongue\n",
      "\n",
      "His ark--on the wide ether flung,\n",
      "But, ere the steely clouds began their war,\n",
      "\n",
      "Her swifter folly flies before;\n",
      "Their righteous hate who bore us in our crime!\"\n",
      "\n",
      "When the light love beheld no foe but Time,\n",
      "So fair along the watery ways they sped\n",
      "\n",
      "Straight to her humble roof she led\n",
      "Or with their own hands wounded, or by fate\n",
      "\n",
      "With these foreboding words restrains their hate:\n",
      "His honoured guest he greeted well,\n",
      "\n",
      "Her sinking steed faltered, his eager ears fell\n",
      "Or sad-eyed Sorrow fills it full of tears,\n",
      "\n",
      "And every flower that sad embroidery wears:\n",
      "All the exquisite places we're at, day and night;\n",
      "\n",
      "In peace, than warlike princes win in fight.\n",
      "But, ere the steely clouds began their war,\n",
      "\n",
      "With equal hurry quit th' invaded shore,\n",
      "One of the solid margins bears us now\n",
      "\n",
      "The ox and ass their patient foreheads bow\n",
      "Ere I become (from thy dear friendship torn)\n",
      "\n",
      "By pining care and wakeful sorrow worn,\n",
      "Its fresh leaves whisper in a song\n",
      "\n",
      "Where the blue river winds along,\n",
      "Dear is the helpless creature we defend\n",
      "\n",
      "The fairest things have fleetest end:\n",
      "Or in such numbers swarming ne'er she showed.\"\n",
      "\n",
      "His sluggish courser stung with many a goad;\n",
      "The dear toy laughed, and I forgot\n",
      "\n",
      "From sun and wind a subtle medicine caught,\n",
      "That in the green wood met my ear.\n",
      "\n",
      "And greater secrets hopes to learn, and hear,\n",
      "They (who upon the recent wonder thought)\n",
      "\n",
      "But that with Christian faith he sought\n",
      "The dear toy laughed, and I forgot\n",
      "\n",
      "From sun and wind a subtle medicine caught,\n",
      "But, ere the steely clouds began their war,\n",
      "\n",
      "With equal hurry quit th' invaded shore,\n",
      "In this dark cell confined?\n",
      "The bobolinks are singing!\n",
      "\n",
      "His hapless guests at silent midnight bled,\n",
      "And gliding and springing,\n",
      "Śatrughna, for wise plans renowned,\n",
      "\n",
      "Your faithful echoes caught the parting sound,\n",
      "In terror form the royal dome they speed,\n",
      "\n",
      "Let snowy Algidum's wide vallies feed,\n",
      "Where round some mould'ring tow'r pale ivy creeps,\n",
      "\n",
      "Who through the night his tireless vigil keeps,\n",
      "You'll feel my heavy spirit chill your chest,\n",
      "\n",
      "Her tired hands crossed on her shrunken breast.\n",
      "While the flung spray leaps in a diamond dew\n",
      "\n",
      "At once from the Olympian summit flew\n",
      "As the spirits of strong men are,\n",
      "\n",
      "So I paid a good dollar fer an ole black mar'.\n",
      "His honoured guest he greeted well,\n",
      "\n",
      "Pass'd into the silent church;\n",
      "Dear voices call me from hell--\n",
      "Thence to my liege's eyes mine eyes I bent,\n",
      "\n",
      "The breezes their own languor lent;\n",
      "And every flower that sad embroidery wears:\n",
      "\n",
      "Or sad-eyed Sorrow fills it full of tears,\n",
      "The land's sharp features seemed to be\n",
      "\n",
      "And the soft lake swells to a sea,\n",
      "And share-beam with its double back they fix.\n",
      "Well, you know\n",
      "\n",
      "And the green things push and grow,\n",
      "velle potestas.\n",
      "When thy fond arms are round him laced,\n",
      "\n",
      "In sportive dimples traced,\n",
      "Like choicest ruby stricken by the sun,\n",
      "\n",
      "Your right to ease by due exertion won,\n",
      "And in the shadow, on the broad tank cast\n",
      "\n",
      "And by such thinking banishes the past\n",
      "The fairest things have fleetest end:\n",
      "\n",
      "Dear is the helpless creature we defend\n",
      "Down right into the World's first region throws\n",
      "\n",
      "A plant that with most cutting grows,\n",
      "And watched the little blue stars hatch\n",
      "Der lord mit his men,\n",
      "\n",
      "Our own right lost.  Him to unthrone we then\n",
      "And in the shadow, on the broad tank cast\n",
      "\n",
      "And by such thinking banishes the past\n",
      "But, ere the steely clouds began their war,\n",
      "\n",
      "With equal hurry quit th' invaded shore,\n",
      "A voice, that other purpose left me none,\n",
      "\n",
      "I heard a roar,\n",
      "Her pretty maid he woo'd, and won;--\n",
      "Two onely, who yet by sov'ran gift possess\n",
      "And sympathetic heart.\n",
      "\n",
      "Stars caught in my branches\n",
      "Thy milder influence impart;\n",
      "His hapless guests at silent midnight bled,\n",
      "And gliding and springing,\n",
      "\n",
      "In this dark cell confined?\n",
      "The bobolinks are singing!\n",
      "Did o'er its shallow waters wade.\n",
      "\n",
      "And on his comrades' quivering mouths he laid\n",
      "And greater secrets hopes to learn, and hear,\n",
      "\n",
      "That in the green wood met my ear.\n",
      "In sportive dimples traced,\n",
      "\n",
      "With seasoned wit and goodly pleasance graced,\n",
      "As now its strange swift shine\n",
      "\n",
      "All other blessings I resign,\n",
      "Thence to my liege's eyes mine eyes I bent,\n",
      "\n",
      "The breezes their own languor lent;\n",
      "Or in such numbers swarming ne'er she showed.\"\n",
      "\n",
      "Upon a shaggy-bearded goat he rode,\n",
      "The drifts of silver arrows fell and rose\n",
      "\n",
      "From peaceful slumber she arose,\n",
      "\"From their strict union takes her name,\n",
      "\n",
      "But safely back the old man came,\n",
      "Or sad-eyed Sorrow fills it full of tears,\n",
      "\n",
      "And every flower that sad embroidery wears:\n",
      "The wounds they wash’d, their pious tears they shed,\n",
      "\n",
      "The sons to toils of glorious battle bred;\n",
      "Stone--\n",
      "In princely weeds apparelled / to their reception go:\n",
      "\n",
      "Xanthus, whose streams in golden currents flow,\n",
      "Her swifter folly flies before;\n",
      "\n",
      "Kae, a jackdaw.\n",
      "The glorious hermit said no more.\n",
      "Nor, Monarch, be thine ear inclined\n",
      "\n",
      "And the green scene goes on the instant blind--\n",
      "Your faithful echoes caught the parting sound,\n",
      "\n",
      "And mournful stillness reigned around,\n",
      "And volleys of small plaudits bring\n",
      "\n",
      "A golden goblet gave.\n",
      "I see them swing,\n",
      "With seasoned wit and goodly pleasance graced,\n",
      "\n",
      "velle potestas.\n",
      "When thy fond arms are round him laced,\n",
      "His sluggish courser stung with many a goad;\n",
      "\n",
      "Upon a shaggy-bearded goat he rode,\n",
      "His ark--on the wide ether flung,\n",
      "\n",
      "Go where glory waits thee,\n",
      "Far other life you live, far other tongue\n",
      "Through the wide forest pricked the weary groom.\n",
      "\n",
      "Whence no public virtues bloom?\n",
      "Pass'd into the silent church;\n",
      "Dear voices call me from hell--\n",
      "\n",
      "Her sinking steed faltered, his eager ears fell\n",
      "All other blessings I resign,\n",
      "\n",
      "To thy good faith commend I this dearest lord of mine.\n",
      "Dear is the helpless creature we defend\n",
      "\n",
      "The fairest things have fleetest end:\n",
      "See! where our white sails bend and dip\n",
      "\n",
      "Those fresh cool waters wet the sick man's lip;\n",
      "And the green things push and grow,\n",
      "\n",
      "And share-beam with its double back they fix.\n",
      "Well, you know\n",
      "Let snowy Algidum's wide vallies feed,\n",
      "\n",
      "In terror form the royal dome they speed,\n",
      "In sportive dimples traced,\n",
      "\n",
      "With seasoned wit and goodly pleasance graced,\n",
      "From sun and wind a subtle medicine caught,\n",
      "\n",
      "The dear toy laughed, and I forgot\n",
      "Stars caught in my branches\n",
      "Thy milder influence impart;\n",
      "\n",
      "Two onely, who yet by sov'ran gift possess\n",
      "And sympathetic heart.\n",
      "When spiritual lightnings struck men down\n",
      "\n",
      "And a net of intense white flame roars over the town,\n",
      "Stars caught in my branches\n",
      "Thy milder influence impart;\n",
      "\n",
      "Two onely, who yet by sov'ran gift possess\n",
      "And sympathetic heart.\n",
      "And the green scene goes on the instant blind--\n",
      "\n",
      "Nor, Monarch, be thine ear inclined\n",
      "The land's sharp features seemed to be\n",
      "\n",
      "Thou the golden one who nursed me,\n",
      "For the heart's right hand we give you.\n",
      "\n",
      "While the flung spray leaps in a diamond dew\n",
      "And in his comfortable seat he groans and sighs.\n",
      "\n",
      "Makes them such raptures know\n",
      "That poorly satisfy our eyes\n",
      "The breezes their own languor lent;\n",
      "\n",
      "Thence to my liege's eyes mine eyes I bent,\n",
      "Sometimes there was a waggon\n",
      "The little brook babbles--its secret is sweet.\n",
      "\n",
      "Whence with spacious vision you mark and mete\n",
      "As now its strange swift shine\n",
      "\n",
      "Lest my wee thing be na mine.\n",
      "A voice, that other purpose left me none,\n",
      "\n",
      "At length one furious demon grasped the sun\n",
      "With golden spurs he pricked him well,\n",
      "\n",
      "Pass'd into the silent church;\n",
      "Dear voices call me from hell--\n",
      "The ox and ass their patient foreheads bow\n",
      "\n",
      "One of the solid margins bears us now\n"
     ]
    }
   ],
   "source": [
    "amt_couplets = 100\n",
    "\n",
    "for i in range(amt_couplets):\n",
    "    group = random.choice(rhyme_groups)\n",
    "    words = random.sample(list(group.keys()), 2)\n",
    "    print(random.choice(group[words[0]]))\n",
    "    print()\n",
    "    print(random.choice(group[words[1]]))"
   ]
  },
  {
   "cell_type": "code",
   "execution_count": null,
   "metadata": {},
   "outputs": [],
   "source": [
    "# Authenticate to Twitter\n",
    "auth = tweepy.OAuthHandler(\"CONSUMER_KEY\", \"CONSUMER_SECRET\")\n",
    "auth.set_access_token(\"ACCESS_TOKEN\", \"ACCESS_TOKEN_SECRET\")\n",
    "\n",
    "# Create API object\n",
    "api = tweepy.API(auth)\n",
    "\n",
    "# Create a tweet\n",
    "api.update_status(\"Hello Tweepy\")"
   ]
  }
 ],
 "metadata": {
  "kernelspec": {
   "display_name": "Python 3",
   "language": "python",
   "name": "python3"
  },
  "language_info": {
   "codemirror_mode": {
    "name": "ipython",
    "version": 3
   },
   "file_extension": ".py",
   "mimetype": "text/x-python",
   "name": "python",
   "nbconvert_exporter": "python",
   "pygments_lexer": "ipython3",
   "version": "3.7.6"
  }
 },
 "nbformat": 4,
 "nbformat_minor": 4
}
